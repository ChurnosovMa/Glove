{
 "cells": [
  {
   "cell_type": "code",
   "execution_count": 35,
   "id": "68449b60-9ce2-4829-a8d7-b0675ace74a6",
   "metadata": {},
   "outputs": [],
   "source": [
    "import numpy as np\n",
    "from time import sleep, time\n",
    "\n",
    "import serial\n",
    "from datetime import datetime\n",
    "\n",
    "import os\n",
    "import sys\n",
    "import preprocessing as pp\n",
    "from IPython.display import clear_output"
   ]
  },
  {
   "cell_type": "code",
   "execution_count": 88,
   "id": "fedbfb9a-e59b-4b69-89fd-1248c0a6646e",
   "metadata": {},
   "outputs": [
    {
     "name": "stdout",
     "output_type": "stream",
     "text": [
      "Script started\n",
      "Serial is ready\n"
     ]
    }
   ],
   "source": [
    "print(\"Script started\")\n",
    "\n",
    "num_sensors = 96\n",
    "run_duration = 600\n",
    "\n",
    "try:\n",
    "    # Serial setup\n",
    "    ser = serial.Serial('COM3', 230400, timeout=1.0)\n",
    "    print(\"Serial is ready\")\n",
    "    ser.flushInput()\n",
    "except:\n",
    "    pass\n",
    "\n",
    "all_data = []"
   ]
  },
  {
   "cell_type": "code",
   "execution_count": 89,
   "id": "18656e51-765b-4b4f-bd4c-789c3279c092",
   "metadata": {},
   "outputs": [],
   "source": [
    "obj = '5'\n",
    "file_number = '1'\n",
    "\n",
    "\n",
    "txt_file = f'data_obj{obj}_{file_number}.txt'\n",
    "base_directory = \"train_stiffness/\"\n",
    "\n",
    "path_txt = os.path.join(base_directory, txt_file)\n",
    "\n",
    "if os.path.exists(path_txt):\n",
    "    print(f\"Error: file already exists data_obj{obj}_.txt/h5.\")\n",
    "    if ser.is_open:\n",
    "        ser.close()\n",
    "        print(\"Serial port closed successfully after data integrity check.\")\n",
    "    sys.exit()"
   ]
  },
  {
   "cell_type": "code",
   "execution_count": 90,
   "id": "7fe79370-93bb-4d6c-b51e-1147fe305ffe",
   "metadata": {},
   "outputs": [],
   "source": [
    "def read_serial_binary():\n",
    "    \"\"\"Read 96 binary values (2 bytes each) + checksum between < and > markers.\"\"\"\n",
    "    expected_bytes = num_sensors * 2 + 2  # 96 values × 2 bytes + 2 bytes for checksum\n",
    "    buffer = b\"\"\n",
    "    start_time = time()\n",
    "    timeout = 0.5 \n",
    "    # Wait for start marker\n",
    "    while True:\n",
    "        if (time() - start_time) > timeout:\n",
    "            print(\"Warning: Timeout waiting for start marker\")\n",
    "            return None\n",
    "        char = ser.read(1)\n",
    "        if char == b'<':\n",
    "            break\n",
    "        elif char == b'':\n",
    "            continue\n",
    "    \n",
    "    # Read data and checksum\n",
    "    data = ser.read(expected_bytes)\n",
    "    buffer += data\n",
    "    \n",
    "    # Wait for end marker\n",
    "    char = ser.read(1)\n",
    "    if char != b'>':\n",
    "        print(\"Warning: End marker not found\")\n",
    "        return None\n",
    "    \n",
    "    if len(data) != expected_bytes:\n",
    "        print(f\"Warning: Expected {expected_bytes} bytes, got {len(data)}\")\n",
    "        return None\n",
    "    \n",
    "    # Extract values and checksum\n",
    "    values = np.frombuffer(data[:num_sensors * 2], dtype=np.uint16)  # 96 values\n",
    "    received_checksum = np.frombuffer(data[num_sensors * 2:], dtype=np.uint16)[0]\n",
    "    \n",
    "    # Verify checksum\n",
    "    computed_checksum = np.sum(values, dtype=np.uint16)\n",
    "    if computed_checksum != received_checksum:\n",
    "        print(f\"Warning: Checksum mismatch - computed: {computed_checksum}, received: {received_checksum}\")\n",
    "        return None\n",
    "    \n",
    "    return values\n",
    "\n",
    "def main_loop():\n",
    "    global all_data, obj, txt_file, iteration_count\n",
    "\n",
    "    ser.flushInput()\n",
    "    with open(path_txt, \"w\") as txtfile:\n",
    "        labels = []\n",
    "        start_time = time()\n",
    "        iteration_count = 0\n",
    "        while True:\n",
    "            # Check timer at the start of each iteration\n",
    "            elapsed_time = time() - start_time\n",
    "            if elapsed_time >= run_duration:\n",
    "                print(f\"Timer expired after {elapsed_time:.2f} seconds. Stopping data collection.\")\n",
    "                break\n",
    "            ser.flushInput()\n",
    "            count = 0\n",
    "            sample_data = np.zeros((30, 96))\n",
    "            while count < 30:\n",
    "                ser.write(b'R')\n",
    "                ser.flush()\n",
    "                values = read_serial_binary()\n",
    "                if values is None or len(values) != num_sensors:\n",
    "                    print(f\"Warning: Expected {num_sensors} values, got {len(values) if values is not None else 0}\")\n",
    "                    continue\n",
    "                if all(value <= 1000 for value in values):\n",
    "                    timestamp = datetime.now().strftime('%H:%M:%S.%f')\n",
    "                    txtfile.write(f\"{values},{timestamp}\\n\")\n",
    "                    iteration_count += 1\n",
    "                else:\n",
    "                    print(\"Warning: One or more sensor values exceeded the maximum allowed value of 1000.\")\n",
    "                    continue\n",
    "                numeric_arrays = np.where(values > 15, values, 0)\n",
    "                sample_data[count] = numeric_arrays\n",
    "                count += 1\n",
    "            thresh = 0.0023\n",
    "            thresh = 0.00\n",
    "            resistances = pp.transform_to_resistances(sample_data)\n",
    "            smooth_resistances = pp.robust_smoothing(resistances)\n",
    "            power = pp.compute_power(smooth_resistances)\n",
    "            if power > thresh:\n",
    "                all_data.append(smooth_resistances[np.newaxis, :])\n",
    "                clear_output()\n",
    "                print(len(all_data))\n",
    "            else:\n",
    "                clear_output()\n",
    "                print(\"Пусто\")\n",
    "                continue\n",
    "\n",
    "    print(np.concatenate(all_data, axis=0).shape)\n",
    "    np.save(f'train_stiffness/obj{obj}_{file_number}.txt', np.concatenate(all_data, axis=0))"
   ]
  },
  {
   "cell_type": "code",
   "execution_count": 91,
   "id": "26f3807b-9d91-455d-aa68-1ae3f23d3b73",
   "metadata": {},
   "outputs": [
    {
     "name": "stdout",
     "output_type": "stream",
     "text": [
      "679\n",
      "Timer expired after 600.18 seconds. Stopping data collection.\n",
      "(679, 30, 96)\n",
      "Serial port closed successfully after data integrity check.\n"
     ]
    }
   ],
   "source": [
    "if __name__ == '__main__':\n",
    "    print(\"Start\")\n",
    "    main_loop() \n",
    "    if ser.is_open:\n",
    "        ser.close()\n",
    "        print(\"Serial port closed successfully after data integrity check.\")"
   ]
  },
  {
   "cell_type": "code",
   "execution_count": 44,
   "id": "414f965c-2ce4-4aef-90a5-4db9d0f6e502",
   "metadata": {},
   "outputs": [],
   "source": [
    "a = np.load('train/obj2_1.txt.npy')\n",
    "b = np.load('train/obj0_1.txt.npy')\n",
    "c = np.load('train/obj1_1.txt.npy')"
   ]
  },
  {
   "cell_type": "code",
   "execution_count": 45,
   "id": "b8c2a91b-09f0-473b-b9ab-ec132557a6f7",
   "metadata": {},
   "outputs": [
    {
     "name": "stdout",
     "output_type": "stream",
     "text": [
      "(512, 30, 96) (739, 30, 96) (594, 30, 96)\n"
     ]
    }
   ],
   "source": [
    "print(a.shape, b.shape, c.shape)"
   ]
  }
 ],
 "metadata": {
  "kernelspec": {
   "display_name": "Python 3 (ipykernel)",
   "language": "python",
   "name": "python3"
  },
  "language_info": {
   "codemirror_mode": {
    "name": "ipython",
    "version": 3
   },
   "file_extension": ".py",
   "mimetype": "text/x-python",
   "name": "python",
   "nbconvert_exporter": "python",
   "pygments_lexer": "ipython3",
   "version": "3.13.5"
  }
 },
 "nbformat": 4,
 "nbformat_minor": 5
}
