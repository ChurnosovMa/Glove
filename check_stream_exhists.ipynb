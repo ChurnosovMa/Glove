{
 "cells": [
  {
   "cell_type": "code",
   "execution_count": 1,
   "id": "e7f27b9e-c4b7-429e-8511-695e7df73eca",
   "metadata": {},
   "outputs": [],
   "source": [
    "import pylsl"
   ]
  },
  {
   "cell_type": "code",
   "execution_count": null,
   "id": "404a1bfa-d0ac-4c91-9e8e-334416184f11",
   "metadata": {},
   "outputs": [],
   "source": [
    "aaa=pylsl.resolve_streams()\n",
    "\n",
    "for i in aaa:\n",
    "    print(i.name())\n",
    "\n",
    "    if i.name()=='Tapas':\n",
    "        inlet=pylsl.StreamInlet(i)"
   ]
  },
  {
   "cell_type": "code",
   "execution_count": 4,
   "id": "8b6bf69e-6bb1-4783-aa54-395fe36cac1c",
   "metadata": {},
   "outputs": [
    {
     "name": "stdout",
     "output_type": "stream",
     "text": [
      "([1.0], 4706.184688)\n",
      "([1.0], 4706.7545399)\n",
      "([1.0], 4707.3189847)\n",
      "([1.0], 4707.8859363)\n",
      "([1.0], 4708.4514046)\n",
      "([1.0], 4709.0236608)\n",
      "([4.0], 4709.5900144)\n",
      "([1.0], 4710.154386)\n",
      "([1.0], 4710.7178114)\n",
      "([1.0], 4711.2869373)\n",
      "([1.0], 4711.8573723)\n",
      "([1.0], 4712.4242446)\n",
      "([1.0], 4712.9883175)\n",
      "([1.0], 4713.552057)\n",
      "([1.0], 4714.1174893)\n",
      "([1.0], 4714.6850831)\n",
      "([1.0], 4715.2565621)\n",
      "([1.0], 4715.8218311)\n",
      "([1.0], 4716.3850126)\n",
      "([1.0], 4716.9533765)\n",
      "([1.0], 4717.5170432)\n",
      "([1.0], 4718.0832892)\n",
      "([1.0], 4718.6498158)\n",
      "([1.0], 4719.2149251)\n",
      "([1.0], 4719.7825717)\n",
      "([1.0], 4720.3541428)\n",
      "([1.0], 4720.925236)\n",
      "([1.0], 4721.4890325)\n",
      "([1.0], 4722.0544923)\n",
      "([1.0], 4722.6175997)\n",
      "([1.0], 4723.1859685)\n",
      "([1.0], 4723.7515596)\n"
     ]
    },
    {
     "ename": "KeyboardInterrupt",
     "evalue": "",
     "output_type": "error",
     "traceback": [
      "\u001b[31m---------------------------------------------------------------------------\u001b[39m",
      "\u001b[31mKeyboardInterrupt\u001b[39m                         Traceback (most recent call last)",
      "\u001b[36mCell\u001b[39m\u001b[36m \u001b[39m\u001b[32mIn[4]\u001b[39m\u001b[32m, line 2\u001b[39m\n\u001b[32m      1\u001b[39m \u001b[38;5;28;01mwhile\u001b[39;00m \u001b[38;5;28;01mTrue\u001b[39;00m:\n\u001b[32m----> \u001b[39m\u001b[32m2\u001b[39m     \u001b[38;5;28mprint\u001b[39m(\u001b[43minlet\u001b[49m\u001b[43m.\u001b[49m\u001b[43mpull_sample\u001b[49m\u001b[43m(\u001b[49m\u001b[43m)\u001b[49m)\n",
      "\u001b[36mFile \u001b[39m\u001b[32mD:\\Anaconda\\envs\\maxims_exp\\Lib\\site-packages\\pylsl\\inlet.py:195\u001b[39m, in \u001b[36mStreamInlet.pull_sample\u001b[39m\u001b[34m(self, timeout, sample)\u001b[39m\n\u001b[32m    192\u001b[39m     assign_to = \u001b[38;5;28;01mNone\u001b[39;00m\n\u001b[32m    194\u001b[39m errcode = ctypes.c_int()\n\u001b[32m--> \u001b[39m\u001b[32m195\u001b[39m timestamp = \u001b[38;5;28;43mself\u001b[39;49m\u001b[43m.\u001b[49m\u001b[43mdo_pull_sample\u001b[49m\u001b[43m(\u001b[49m\n\u001b[32m    196\u001b[39m \u001b[43m    \u001b[49m\u001b[38;5;28;43mself\u001b[39;49m\u001b[43m.\u001b[49m\u001b[43mobj\u001b[49m\u001b[43m,\u001b[49m\n\u001b[32m    197\u001b[39m \u001b[43m    \u001b[49m\u001b[43mctypes\u001b[49m\u001b[43m.\u001b[49m\u001b[43mbyref\u001b[49m\u001b[43m(\u001b[49m\u001b[38;5;28;43mself\u001b[39;49m\u001b[43m.\u001b[49m\u001b[43msample\u001b[49m\u001b[43m)\u001b[49m\u001b[43m,\u001b[49m\n\u001b[32m    198\u001b[39m \u001b[43m    \u001b[49m\u001b[38;5;28;43mself\u001b[39;49m\u001b[43m.\u001b[49m\u001b[43mchannel_count\u001b[49m\u001b[43m,\u001b[49m\n\u001b[32m    199\u001b[39m \u001b[43m    \u001b[49m\u001b[43mctypes\u001b[49m\u001b[43m.\u001b[49m\u001b[43mc_double\u001b[49m\u001b[43m(\u001b[49m\u001b[43mtimeout\u001b[49m\u001b[43m)\u001b[49m\u001b[43m,\u001b[49m\n\u001b[32m    200\u001b[39m \u001b[43m    \u001b[49m\u001b[43mctypes\u001b[49m\u001b[43m.\u001b[49m\u001b[43mbyref\u001b[49m\u001b[43m(\u001b[49m\u001b[43merrcode\u001b[49m\u001b[43m)\u001b[49m\u001b[43m,\u001b[49m\n\u001b[32m    201\u001b[39m \u001b[43m\u001b[49m\u001b[43m)\u001b[49m\n\u001b[32m    202\u001b[39m handle_error(errcode)\n\u001b[32m    203\u001b[39m \u001b[38;5;28;01mif\u001b[39;00m timestamp:\n",
      "\u001b[31mKeyboardInterrupt\u001b[39m: "
     ]
    }
   ],
   "source": [
    "while True:\n",
    "    print(inlet.pull_sample())"
   ]
  },
  {
   "cell_type": "code",
   "execution_count": null,
   "id": "a3f4097c-d3e5-4005-950d-d44c23676403",
   "metadata": {},
   "outputs": [],
   "source": []
  }
 ],
 "metadata": {
  "kernelspec": {
   "display_name": "Python 3 (ipykernel)",
   "language": "python",
   "name": "python3"
  },
  "language_info": {
   "codemirror_mode": {
    "name": "ipython",
    "version": 3
   },
   "file_extension": ".py",
   "mimetype": "text/x-python",
   "name": "python",
   "nbconvert_exporter": "python",
   "pygments_lexer": "ipython3",
   "version": "3.13.5"
  }
 },
 "nbformat": 4,
 "nbformat_minor": 5
}
